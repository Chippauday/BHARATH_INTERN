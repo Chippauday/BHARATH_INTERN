{
 "cells": [
  {
   "cell_type": "code",
   "execution_count": 41,
   "id": "118f8a38",
   "metadata": {},
   "outputs": [],
   "source": [
    "import numpy as np\n",
    "import pandas as pd\n",
    "import seaborn as sns\n",
    "import matplotlib.pyplot as plt\n",
    "from sklearn.preprocessing import MinMaxScaler\n",
    "from keras.models import Sequential\n",
    "from keras.layers import Dense,LSTM\n",
    "import tensorflow as tf\n",
    "from sklearn.metrics import mean_squared_error,r2_score"
   ]
  },
  {
   "cell_type": "code",
   "execution_count": 44,
   "id": "a1c1f5a7",
   "metadata": {},
   "outputs": [
    {
     "data": {
      "text/html": [
       "<div>\n",
       "<style scoped>\n",
       "    .dataframe tbody tr th:only-of-type {\n",
       "        vertical-align: middle;\n",
       "    }\n",
       "\n",
       "    .dataframe tbody tr th {\n",
       "        vertical-align: top;\n",
       "    }\n",
       "\n",
       "    .dataframe thead th {\n",
       "        text-align: right;\n",
       "    }\n",
       "</style>\n",
       "<table border=\"1\" class=\"dataframe\">\n",
       "  <thead>\n",
       "    <tr style=\"text-align: right;\">\n",
       "      <th></th>\n",
       "      <th>Date</th>\n",
       "      <th>Open</th>\n",
       "      <th>High</th>\n",
       "      <th>Low</th>\n",
       "      <th>Close</th>\n",
       "      <th>Adj Close</th>\n",
       "      <th>Volume</th>\n",
       "    </tr>\n",
       "  </thead>\n",
       "  <tbody>\n",
       "    <tr>\n",
       "      <th>0</th>\n",
       "      <td>2010-06-29</td>\n",
       "      <td>19.000000</td>\n",
       "      <td>25.00</td>\n",
       "      <td>17.540001</td>\n",
       "      <td>23.889999</td>\n",
       "      <td>23.889999</td>\n",
       "      <td>18766300</td>\n",
       "    </tr>\n",
       "    <tr>\n",
       "      <th>1</th>\n",
       "      <td>2010-06-30</td>\n",
       "      <td>25.790001</td>\n",
       "      <td>30.42</td>\n",
       "      <td>23.299999</td>\n",
       "      <td>23.830000</td>\n",
       "      <td>23.830000</td>\n",
       "      <td>17187100</td>\n",
       "    </tr>\n",
       "    <tr>\n",
       "      <th>2</th>\n",
       "      <td>2010-07-01</td>\n",
       "      <td>25.000000</td>\n",
       "      <td>25.92</td>\n",
       "      <td>20.270000</td>\n",
       "      <td>21.959999</td>\n",
       "      <td>21.959999</td>\n",
       "      <td>8218800</td>\n",
       "    </tr>\n",
       "    <tr>\n",
       "      <th>3</th>\n",
       "      <td>2010-07-02</td>\n",
       "      <td>23.000000</td>\n",
       "      <td>23.10</td>\n",
       "      <td>18.709999</td>\n",
       "      <td>19.200001</td>\n",
       "      <td>19.200001</td>\n",
       "      <td>5139800</td>\n",
       "    </tr>\n",
       "    <tr>\n",
       "      <th>4</th>\n",
       "      <td>2010-07-06</td>\n",
       "      <td>20.000000</td>\n",
       "      <td>20.00</td>\n",
       "      <td>15.830000</td>\n",
       "      <td>16.110001</td>\n",
       "      <td>16.110001</td>\n",
       "      <td>6866900</td>\n",
       "    </tr>\n",
       "  </tbody>\n",
       "</table>\n",
       "</div>"
      ],
      "text/plain": [
       "         Date       Open   High        Low      Close  Adj Close    Volume\n",
       "0  2010-06-29  19.000000  25.00  17.540001  23.889999  23.889999  18766300\n",
       "1  2010-06-30  25.790001  30.42  23.299999  23.830000  23.830000  17187100\n",
       "2  2010-07-01  25.000000  25.92  20.270000  21.959999  21.959999   8218800\n",
       "3  2010-07-02  23.000000  23.10  18.709999  19.200001  19.200001   5139800\n",
       "4  2010-07-06  20.000000  20.00  15.830000  16.110001  16.110001   6866900"
      ]
     },
     "execution_count": 44,
     "metadata": {},
     "output_type": "execute_result"
    }
   ],
   "source": [
    "data=pd.read_csv('TSLA.csv')\n",
    "data.head()"
   ]
  },
  {
   "cell_type": "code",
   "execution_count": 45,
   "id": "2192cfb0",
   "metadata": {},
   "outputs": [
    {
     "name": "stdout",
     "output_type": "stream",
     "text": [
      "<class 'pandas.core.frame.DataFrame'>\n",
      "RangeIndex: 2416 entries, 0 to 2415\n",
      "Data columns (total 7 columns):\n",
      " #   Column     Non-Null Count  Dtype  \n",
      "---  ------     --------------  -----  \n",
      " 0   Date       2416 non-null   object \n",
      " 1   Open       2416 non-null   float64\n",
      " 2   High       2416 non-null   float64\n",
      " 3   Low        2416 non-null   float64\n",
      " 4   Close      2416 non-null   float64\n",
      " 5   Adj Close  2416 non-null   float64\n",
      " 6   Volume     2416 non-null   int64  \n",
      "dtypes: float64(5), int64(1), object(1)\n",
      "memory usage: 132.2+ KB\n"
     ]
    }
   ],
   "source": [
    "data.info()"
   ]
  },
  {
   "cell_type": "code",
   "execution_count": 46,
   "id": "8a75686e",
   "metadata": {},
   "outputs": [
    {
     "data": {
      "text/plain": [
       "Date         0\n",
       "Open         0\n",
       "High         0\n",
       "Low          0\n",
       "Close        0\n",
       "Adj Close    0\n",
       "Volume       0\n",
       "dtype: int64"
      ]
     },
     "execution_count": 46,
     "metadata": {},
     "output_type": "execute_result"
    }
   ],
   "source": [
    "data.isna().sum()"
   ]
  },
  {
   "cell_type": "code",
   "execution_count": 47,
   "id": "c590a8ef",
   "metadata": {},
   "outputs": [
    {
     "data": {
      "text/html": [
       "<div>\n",
       "<style scoped>\n",
       "    .dataframe tbody tr th:only-of-type {\n",
       "        vertical-align: middle;\n",
       "    }\n",
       "\n",
       "    .dataframe tbody tr th {\n",
       "        vertical-align: top;\n",
       "    }\n",
       "\n",
       "    .dataframe thead th {\n",
       "        text-align: right;\n",
       "    }\n",
       "</style>\n",
       "<table border=\"1\" class=\"dataframe\">\n",
       "  <thead>\n",
       "    <tr style=\"text-align: right;\">\n",
       "      <th></th>\n",
       "      <th>Open</th>\n",
       "      <th>High</th>\n",
       "      <th>Low</th>\n",
       "      <th>Close</th>\n",
       "      <th>Adj Close</th>\n",
       "      <th>Volume</th>\n",
       "    </tr>\n",
       "  </thead>\n",
       "  <tbody>\n",
       "    <tr>\n",
       "      <th>count</th>\n",
       "      <td>2416.000000</td>\n",
       "      <td>2416.000000</td>\n",
       "      <td>2416.000000</td>\n",
       "      <td>2416.000000</td>\n",
       "      <td>2416.000000</td>\n",
       "      <td>2.416000e+03</td>\n",
       "    </tr>\n",
       "    <tr>\n",
       "      <th>mean</th>\n",
       "      <td>186.271147</td>\n",
       "      <td>189.578224</td>\n",
       "      <td>182.916639</td>\n",
       "      <td>186.403651</td>\n",
       "      <td>186.403651</td>\n",
       "      <td>5.572722e+06</td>\n",
       "    </tr>\n",
       "    <tr>\n",
       "      <th>std</th>\n",
       "      <td>118.740163</td>\n",
       "      <td>120.892329</td>\n",
       "      <td>116.857591</td>\n",
       "      <td>119.136020</td>\n",
       "      <td>119.136020</td>\n",
       "      <td>4.987809e+06</td>\n",
       "    </tr>\n",
       "    <tr>\n",
       "      <th>min</th>\n",
       "      <td>16.139999</td>\n",
       "      <td>16.629999</td>\n",
       "      <td>14.980000</td>\n",
       "      <td>15.800000</td>\n",
       "      <td>15.800000</td>\n",
       "      <td>1.185000e+05</td>\n",
       "    </tr>\n",
       "    <tr>\n",
       "      <th>25%</th>\n",
       "      <td>34.342498</td>\n",
       "      <td>34.897501</td>\n",
       "      <td>33.587501</td>\n",
       "      <td>34.400002</td>\n",
       "      <td>34.400002</td>\n",
       "      <td>1.899275e+06</td>\n",
       "    </tr>\n",
       "    <tr>\n",
       "      <th>50%</th>\n",
       "      <td>213.035004</td>\n",
       "      <td>216.745002</td>\n",
       "      <td>208.870002</td>\n",
       "      <td>212.960007</td>\n",
       "      <td>212.960007</td>\n",
       "      <td>4.578400e+06</td>\n",
       "    </tr>\n",
       "    <tr>\n",
       "      <th>75%</th>\n",
       "      <td>266.450012</td>\n",
       "      <td>270.927513</td>\n",
       "      <td>262.102501</td>\n",
       "      <td>266.774994</td>\n",
       "      <td>266.774994</td>\n",
       "      <td>7.361150e+06</td>\n",
       "    </tr>\n",
       "    <tr>\n",
       "      <th>max</th>\n",
       "      <td>673.690002</td>\n",
       "      <td>786.140015</td>\n",
       "      <td>673.520020</td>\n",
       "      <td>780.000000</td>\n",
       "      <td>780.000000</td>\n",
       "      <td>4.706500e+07</td>\n",
       "    </tr>\n",
       "  </tbody>\n",
       "</table>\n",
       "</div>"
      ],
      "text/plain": [
       "              Open         High          Low        Close    Adj Close  \\\n",
       "count  2416.000000  2416.000000  2416.000000  2416.000000  2416.000000   \n",
       "mean    186.271147   189.578224   182.916639   186.403651   186.403651   \n",
       "std     118.740163   120.892329   116.857591   119.136020   119.136020   \n",
       "min      16.139999    16.629999    14.980000    15.800000    15.800000   \n",
       "25%      34.342498    34.897501    33.587501    34.400002    34.400002   \n",
       "50%     213.035004   216.745002   208.870002   212.960007   212.960007   \n",
       "75%     266.450012   270.927513   262.102501   266.774994   266.774994   \n",
       "max     673.690002   786.140015   673.520020   780.000000   780.000000   \n",
       "\n",
       "             Volume  \n",
       "count  2.416000e+03  \n",
       "mean   5.572722e+06  \n",
       "std    4.987809e+06  \n",
       "min    1.185000e+05  \n",
       "25%    1.899275e+06  \n",
       "50%    4.578400e+06  \n",
       "75%    7.361150e+06  \n",
       "max    4.706500e+07  "
      ]
     },
     "execution_count": 47,
     "metadata": {},
     "output_type": "execute_result"
    }
   ],
   "source": [
    "data.describe()"
   ]
  },
  {
   "cell_type": "code",
   "execution_count": 48,
   "id": "7df92274",
   "metadata": {},
   "outputs": [
    {
     "data": {
      "text/html": [
       "<div>\n",
       "<style scoped>\n",
       "    .dataframe tbody tr th:only-of-type {\n",
       "        vertical-align: middle;\n",
       "    }\n",
       "\n",
       "    .dataframe tbody tr th {\n",
       "        vertical-align: top;\n",
       "    }\n",
       "\n",
       "    .dataframe thead th {\n",
       "        text-align: right;\n",
       "    }\n",
       "</style>\n",
       "<table border=\"1\" class=\"dataframe\">\n",
       "  <thead>\n",
       "    <tr style=\"text-align: right;\">\n",
       "      <th></th>\n",
       "      <th>Date</th>\n",
       "      <th>Open</th>\n",
       "      <th>High</th>\n",
       "      <th>Low</th>\n",
       "      <th>Close</th>\n",
       "      <th>Adj Close</th>\n",
       "      <th>Volume</th>\n",
       "    </tr>\n",
       "  </thead>\n",
       "  <tbody>\n",
       "    <tr>\n",
       "      <th>0</th>\n",
       "      <td>2010-06-29</td>\n",
       "      <td>19.000000</td>\n",
       "      <td>25.00</td>\n",
       "      <td>17.540001</td>\n",
       "      <td>23.889999</td>\n",
       "      <td>23.889999</td>\n",
       "      <td>18766300</td>\n",
       "    </tr>\n",
       "    <tr>\n",
       "      <th>1</th>\n",
       "      <td>2010-06-30</td>\n",
       "      <td>25.790001</td>\n",
       "      <td>30.42</td>\n",
       "      <td>23.299999</td>\n",
       "      <td>23.830000</td>\n",
       "      <td>23.830000</td>\n",
       "      <td>17187100</td>\n",
       "    </tr>\n",
       "    <tr>\n",
       "      <th>2</th>\n",
       "      <td>2010-07-01</td>\n",
       "      <td>25.000000</td>\n",
       "      <td>25.92</td>\n",
       "      <td>20.270000</td>\n",
       "      <td>21.959999</td>\n",
       "      <td>21.959999</td>\n",
       "      <td>8218800</td>\n",
       "    </tr>\n",
       "    <tr>\n",
       "      <th>3</th>\n",
       "      <td>2010-07-02</td>\n",
       "      <td>23.000000</td>\n",
       "      <td>23.10</td>\n",
       "      <td>18.709999</td>\n",
       "      <td>19.200001</td>\n",
       "      <td>19.200001</td>\n",
       "      <td>5139800</td>\n",
       "    </tr>\n",
       "    <tr>\n",
       "      <th>4</th>\n",
       "      <td>2010-07-06</td>\n",
       "      <td>20.000000</td>\n",
       "      <td>20.00</td>\n",
       "      <td>15.830000</td>\n",
       "      <td>16.110001</td>\n",
       "      <td>16.110001</td>\n",
       "      <td>6866900</td>\n",
       "    </tr>\n",
       "  </tbody>\n",
       "</table>\n",
       "</div>"
      ],
      "text/plain": [
       "         Date       Open   High        Low      Close  Adj Close    Volume\n",
       "0  2010-06-29  19.000000  25.00  17.540001  23.889999  23.889999  18766300\n",
       "1  2010-06-30  25.790001  30.42  23.299999  23.830000  23.830000  17187100\n",
       "2  2010-07-01  25.000000  25.92  20.270000  21.959999  21.959999   8218800\n",
       "3  2010-07-02  23.000000  23.10  18.709999  19.200001  19.200001   5139800\n",
       "4  2010-07-06  20.000000  20.00  15.830000  16.110001  16.110001   6866900"
      ]
     },
     "execution_count": 48,
     "metadata": {},
     "output_type": "execute_result"
    }
   ],
   "source": [
    "data.sort_values(by='Date')\n",
    "data.head()"
   ]
  },
  {
   "cell_type": "code",
   "execution_count": 49,
   "id": "57c3b7e2",
   "metadata": {},
   "outputs": [
    {
     "data": {
      "text/plain": [
       "[<matplotlib.lines.Line2D at 0x209e6de0bb0>]"
      ]
     },
     "execution_count": 49,
     "metadata": {},
     "output_type": "execute_result"
    },
    {
     "data": {
      "image/png": "[encoded data removed]",
      "text/plain": [
       "<Figure size 1000x900 with 1 Axes>"
      ]
     },
     "metadata": {},
     "output_type": "display_data"
    }
   ],
   "source": [
    "plt.figure(figsize=(10,9))\n",
    "plt.plot(data['Date'],data['Close'])"
   ]
  },
  {
   "cell_type": "code",
   "execution_count": 50,
   "id": "a479efee",
   "metadata": {},
   "outputs": [
    {
     "data": {
      "text/plain": [
       "0        23.889999\n",
       "1        23.830000\n",
       "2        21.959999\n",
       "3        19.200001\n",
       "4        16.110001\n",
       "           ...    \n",
       "2411    566.900024\n",
       "2412    580.989990\n",
       "2413    640.809998\n",
       "2414    650.570007\n",
       "2415    780.000000\n",
       "Name: Close, Length: 2416, dtype: float64"
      ]
     },
     "execution_count": 50,
     "metadata": {},
     "output_type": "execute_result"
    }
   ],
   "source": [
    "closed=data['Close']\n",
    "closed"
   ]
  },
  {
   "cell_type": "code",
   "execution_count": 51,
   "id": "421463db",
   "metadata": {},
   "outputs": [
    {
     "data": {
      "text/plain": [
       "array([[0.01058623],\n",
       "       [0.01050772],\n",
       "       [0.00806072],\n",
       "       ...,\n",
       "       [0.81786181],\n",
       "       [0.83063335],\n",
       "       [1.        ]])"
      ]
     },
     "execution_count": 51,
     "metadata": {},
     "output_type": "execute_result"
    }
   ],
   "source": [
    "scalar=MinMaxScaler(feature_range=(0,1))\n",
    "closed=scalar.fit_transform(np.array(closed).reshape(-1,1))\n",
    "closed\n"
   ]
  },
  {
   "cell_type": "code",
   "execution_count": 52,
   "id": "110f7d9b",
   "metadata": {},
   "outputs": [
    {
     "data": {
      "text/plain": [
       "((1691, 1), (725, 1))"
      ]
     },
     "execution_count": 52,
     "metadata": {},
     "output_type": "execute_result"
    }
   ],
   "source": [
    "train_size=int(len(closed)*0.7)\n",
    "test_size=len(closed)-train_size\n",
    "\n",
    "train,test=closed[0:train_size,:],closed[train_size:len(closed),:1]\n",
    "train.shape,test.shape"
   ]
  },
  {
   "cell_type": "code",
   "execution_count": 53,
   "id": "c64e21da",
   "metadata": {},
   "outputs": [],
   "source": [
    "def create_dataset(dataset,time_step=1):\n",
    "    datax,datay=[],[]\n",
    "    for i in range(len(dataset)-time_step-1):\n",
    "        a=dataset[i:(i+time_step),0]\n",
    "        datax.append(a)\n",
    "        datay.append(dataset[i+time_step,0])\n",
    "    return np.array(datax,dtype=np.float32),np.array(datay,dtype=np.float32)"
   ]
  },
  {
   "cell_type": "code",
   "execution_count": 54,
   "id": "cfc14209",
   "metadata": {},
   "outputs": [
    {
     "data": {
      "text/plain": [
       "(1590,)"
      ]
     },
     "execution_count": 54,
     "metadata": {},
     "output_type": "execute_result"
    }
   ],
   "source": [
    "time_step=100\n",
    "x_train,y_train=create_dataset(train,time_step)\n",
    "x_test,y_test=create_dataset(test,time_step)\n",
    "y_train.shape"
   ]
  },
  {
   "cell_type": "code",
   "execution_count": 55,
   "id": "c6cc8d9a",
   "metadata": {},
   "outputs": [],
   "source": [
    "x_train=x_train.reshape(x_train.shape[0],x_train.shape[1],1)\n",
    "x_test=x_test.reshape(x_test.shape[0],x_test.shape[1],1)"
   ]
  },
  {
   "cell_type": "code",
   "execution_count": 56,
   "id": "5bba10e2",
   "metadata": {},
   "outputs": [],
   "source": [
    "model=Sequential()\n",
    "model.add(LSTM(50,return_sequences=True,input_shape=(100,1)))\n",
    "model.add(LSTM(50,return_sequences=True))\n",
    "model.add(LSTM(50))\n",
    "model.add(Dense(1))\n",
    "model.compile(loss='mean_squared_error',optimizer='adam')"
   ]
  },
  {
   "cell_type": "code",
   "execution_count": 57,
   "id": "62fa70d1",
   "metadata": {},
   "outputs": [
    {
     "name": "stdout",
     "output_type": "stream",
     "text": [
      "Model: \"sequential_1\"\n",
      "_________________________________________________________________\n",
      " Layer (type)                Output Shape              Param #   \n",
      "=================================================================\n",
      " lstm_3 (LSTM)               (None, 100, 50)           10400     \n",
      "                                                                 \n",
      " lstm_4 (LSTM)               (None, 100, 50)           20200     \n",
      "                                                                 \n",
      " lstm_5 (LSTM)               (None, 50)                20200     \n",
      "                                                                 \n",
      " dense_1 (Dense)             (None, 1)                 51        \n",
      "                                                                 \n",
      "=================================================================\n",
      "Total params: 50851 (198.64 KB)\n",
      "Trainable params: 50851 (198.64 KB)\n",
      "Non-trainable params: 0 (0.00 Byte)\n",
      "_________________________________________________________________\n"
     ]
    }
   ],
   "source": [
    "model.summary()"
   ]
  },
  {
   "cell_type": "code",
   "execution_count": 58,
   "id": "64e8332a",
   "metadata": {},
   "outputs": [],
   "source": [
    "x_train=tf.convert_to_tensor(x_train)\n",
    "y_train=tf.convert_to_tensor(y_train)"
   ]
  },
  {
   "cell_type": "code",
   "execution_count": null,
   "id": "13e91764",
   "metadata": {},
   "outputs": [
    {
     "name": "stdout",
     "output_type": "stream",
     "text": [
      "Epoch 1/60\n",
      "23/23 [==============================] - 13s 225ms/step - loss: 0.0049 - val_loss: 4.1388e-04\n",
      "Epoch 2/60\n",
      "23/23 [==============================] - 4s 185ms/step - loss: 4.6647e-04 - val_loss: 3.7319e-04\n",
      "Epoch 3/60\n",
      "23/23 [==============================] - 5s 197ms/step - loss: 3.7149e-04 - val_loss: 4.1730e-04\n",
      "Epoch 4/60\n",
      "23/23 [==============================] - 4s 190ms/step - loss: 3.3369e-04 - val_loss: 3.4417e-04\n",
      "Epoch 5/60\n",
      "23/23 [==============================] - 4s 187ms/step - loss: 3.2221e-04 - val_loss: 3.3984e-04\n",
      "Epoch 6/60\n",
      "23/23 [==============================] - 4s 172ms/step - loss: 3.0004e-04 - val_loss: 3.2579e-04\n",
      "Epoch 7/60\n",
      "23/23 [==============================] - 4s 175ms/step - loss: 3.0755e-04 - val_loss: 3.0382e-04\n",
      "Epoch 8/60\n",
      "23/23 [==============================] - 4s 186ms/step - loss: 3.0980e-04 - val_loss: 3.0125e-04\n",
      "Epoch 9/60\n",
      "23/23 [==============================] - 4s 173ms/step - loss: 2.6790e-04 - val_loss: 2.9783e-04\n",
      "Epoch 10/60\n",
      "23/23 [==============================] - 4s 172ms/step - loss: 2.4526e-04 - val_loss: 3.1935e-04\n",
      "Epoch 11/60\n",
      "23/23 [==============================] - 4s 170ms/step - loss: 2.4116e-04 - val_loss: 2.4881e-04\n",
      "Epoch 12/60\n",
      "23/23 [==============================] - 4s 198ms/step - loss: 2.2181e-04 - val_loss: 1.9987e-04\n",
      "Epoch 13/60\n",
      "23/23 [==============================] - 4s 192ms/step - loss: 2.0131e-04 - val_loss: 1.8834e-04\n",
      "Epoch 14/60\n",
      "23/23 [==============================] - 4s 181ms/step - loss: 1.9157e-04 - val_loss: 1.8377e-04\n",
      "Epoch 15/60\n",
      "23/23 [==============================] - 4s 178ms/step - loss: 1.9510e-04 - val_loss: 1.7207e-04\n",
      "Epoch 16/60\n",
      "23/23 [==============================] - 4s 199ms/step - loss: 1.8675e-04 - val_loss: 3.2415e-04\n",
      "Epoch 17/60\n",
      "12/23 [==============>...............] - ETA: 2s - loss: 2.7724e-04"
     ]
    }
   ],
   "source": [
    "model.fit(x_train,y_train,validation_split=0.1,epochs=60,batch_size=64,verbose=1)"
   ]
  },
  {
   "cell_type": "code",
   "execution_count": null,
   "id": "b67dc29f",
   "metadata": {},
   "outputs": [],
   "source": [
    "train_predicted=model.predict(x_train)\n",
    "predicted=model.predict(x_test)"
   ]
  },
  {
   "cell_type": "code",
   "execution_count": null,
   "id": "8b14b8ce",
   "metadata": {},
   "outputs": [],
   "source": [
    "train_predicted=model.predict(x_train)\n",
    "predicted=model.predict(x_test)"
   ]
  },
  {
   "cell_type": "code",
   "execution_count": null,
   "id": "e1e1c5bb",
   "metadata": {},
   "outputs": [],
   "source": [
    "print(\"root mean squared error\",np.sqrt(mean_squared_error(y_test,predicted)))"
   ]
  },
  {
   "cell_type": "code",
   "execution_count": null,
   "id": "65111b11",
   "metadata": {},
   "outputs": [],
   "source": [
    "look_back=100\n",
    "\n",
    "train_predictedplt=np.empty_like(closed)\n",
    "train_predictedplt[:,:]=np.nan\n",
    "train_predictedplt[look_back:len(train_predicted)+look_back,:]=train_predicted\n",
    "\n",
    "predictedplt=np.empty_like(closed)\n",
    "predictedplt[:,:]=np.nan\n",
    "predictedplt[len(train_predicted)+(look_back*2)+1:len(closed)-1,:]=predicted\n",
    "\n",
    "\n",
    "plt.figure(figsize=(10,8))\n",
    "plt.plot(scalar.inverse_transform(closed))\n",
    "plt.plot(train_predictedplt)\n",
    "plt.plot(predictedplt)\n",
    "plt.show()\n"
   ]
  },
  {
   "cell_type": "code",
   "execution_count": null,
   "id": "c1be981b",
   "metadata": {},
   "outputs": [],
   "source": [
    "len(test)"
   ]
  },
  {
   "cell_type": "code",
   "execution_count": null,
   "id": "e530be00",
   "metadata": {},
   "outputs": [],
   "source": [
    "predicted_input=test[290:].reshape(1,-1)\n",
    "predicted_input.shape"
   ]
  },
  {
   "cell_type": "code",
   "execution_count": null,
   "id": "fb8297b3",
   "metadata": {},
   "outputs": [],
   "source": [
    "temp_input=list(predicted_input)\n",
    "temp_input=temp_input[0].tolist()\n"
   ]
  },
  {
   "cell_type": "code",
   "execution_count": null,
   "id": "68e16115",
   "metadata": {},
   "outputs": [],
   "source": [
    "temp_input"
   ]
  },
  {
   "cell_type": "code",
   "execution_count": null,
   "id": "dd0d21df",
   "metadata": {},
   "outputs": [],
   "source": [
    "new_day=np.arange(1,81)\n",
    "predicted_day=np.arange(81,101)\n",
    "len(closed)"
   ]
  },
  {
   "cell_type": "code",
   "execution_count": null,
   "id": "dd967e14",
   "metadata": {},
   "outputs": [],
   "source": [
    "new_data=closed.tolist()\n",
    "new_data.extend(output)\n",
    "len(new_data)"
   ]
  },
  {
   "cell_type": "code",
   "execution_count": 39,
   "id": "22e282ff",
   "metadata": {},
   "outputs": [
    {
     "data": {
      "text/plain": [
       "[<matplotlib.lines.Line2D at 0x209e689ecb0>]"
      ]
     },
     "execution_count": 39,
     "metadata": {},
     "output_type": "execute_result"
    },
    {
     "data": {
      "image/png": "[encoded data removed]",
      "text/plain": [
       "<Figure size 1000x800 with 1 Axes>"
      ]
     },
     "metadata": {},
     "output_type": "display_data"
    }
   ],
   "source": [
    "plt.figure(figsize=(10,8))\n",
    "plt.plot(new_data[1155:])\n"
   ]
  },
  {
   "cell_type": "code",
   "execution_count": null,
   "id": "e463d9e1",
   "metadata": {},
   "outputs": [],
   "source": []
  },
  {
   "cell_type": "code",
   "execution_count": null,
   "id": "99967ceb",
   "metadata": {},
   "outputs": [],
   "source": []
  }
 ],
 "metadata": {
  "kernelspec": {
   "display_name": "Python 3 (ipykernel)",
   "language": "python",
   "name": "python3"
  },
  "language_info": {
   "codemirror_mode": {
    "name": "ipython",
    "version": 3
   },
   "file_extension": ".py",
   "mimetype": "text/x-python",
   "name": "python",
   "nbconvert_exporter": "python",
   "pygments_lexer": "ipython3",
   "version": "3.10.9"
  }
 },
 "nbformat": 4,
 "nbformat_minor": 5
}
